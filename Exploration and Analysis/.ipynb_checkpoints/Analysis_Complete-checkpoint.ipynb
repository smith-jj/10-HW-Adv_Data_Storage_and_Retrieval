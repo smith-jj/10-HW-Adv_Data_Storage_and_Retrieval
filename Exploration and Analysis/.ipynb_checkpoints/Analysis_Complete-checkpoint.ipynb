{
 "cells": [
  {
   "cell_type": "code",
   "execution_count": 1,
   "metadata": {},
   "outputs": [],
   "source": [
    "%matplotlib inline\n",
    "from matplotlib import style\n",
    "style.use('fivethirtyeight')\n",
    "import matplotlib.pyplot as plt\n",
    "import numpy as np\n",
    "import pandas as pd\n",
    "import datetime as dt"
   ]
  },
  {
   "cell_type": "markdown",
   "metadata": {},
   "source": [
    "# Reflect Tables into SQLAlchemy ORM"
   ]
  },
  {
   "cell_type": "code",
   "execution_count": 2,
   "metadata": {},
   "outputs": [],
   "source": [
    "# Python SQL toolkit and Object Relational Mapper\n",
    "import sqlalchemy\n",
    "from sqlalchemy.ext.automap import automap_base\n",
    "from sqlalchemy.orm import Session\n",
    "from sqlalchemy import create_engine, func, inspect"
   ]
  },
  {
   "cell_type": "code",
   "execution_count": 3,
   "metadata": {},
   "outputs": [],
   "source": [
    "engine = create_engine(\"sqlite:///Resources/hawaii.sqlite\")"
   ]
  },
  {
   "cell_type": "code",
   "execution_count": 4,
   "metadata": {},
   "outputs": [],
   "source": [
    "# reflect an existing database into a new model\n",
    "Base = automap_base()\n",
    "# reflect the tables\n",
    "Base.prepare(engine, reflect=True)"
   ]
  },
  {
   "cell_type": "code",
   "execution_count": 5,
   "metadata": {},
   "outputs": [
    {
     "data": {
      "text/plain": [
       "['measurement', 'station']"
      ]
     },
     "execution_count": 5,
     "metadata": {},
     "output_type": "execute_result"
    }
   ],
   "source": [
    "# We can view all of the classes that automap found\n",
    "Base.classes.keys()"
   ]
  },
  {
   "cell_type": "code",
   "execution_count": 6,
   "metadata": {},
   "outputs": [],
   "source": [
    "# Save references to each table\n",
    "Measurement = Base.classes.measurement\n",
    "Station = Base.classes.station"
   ]
  },
  {
   "cell_type": "code",
   "execution_count": 7,
   "metadata": {},
   "outputs": [],
   "source": [
    "# Create our session (link) from Python to the DB\n",
    "session = Session(engine)"
   ]
  },
  {
   "cell_type": "code",
   "execution_count": 8,
   "metadata": {},
   "outputs": [],
   "source": [
    "# Create our session (link) from Python to the DB\n",
    "session = Session(engine)"
   ]
  },
  {
   "cell_type": "code",
   "execution_count": 9,
   "metadata": {},
   "outputs": [],
   "source": [
    "# Create the inspector and connect it to the engine\n",
    "inspector = inspect(engine)"
   ]
  },
  {
   "cell_type": "code",
   "execution_count": 10,
   "metadata": {},
   "outputs": [
    {
     "name": "stdout",
     "output_type": "stream",
     "text": [
      "id INTEGER\n",
      "station TEXT\n",
      "date TEXT\n",
      "prcp FLOAT\n",
      "tobs FLOAT\n"
     ]
    }
   ],
   "source": [
    "# Using the inspector to print the column names within the 'measurement' table and its types\n",
    "columns = inspector.get_columns('measurement')\n",
    "for column in columns:\n",
    "    print(column[\"name\"], column[\"type\"])"
   ]
  },
  {
   "cell_type": "code",
   "execution_count": 11,
   "metadata": {},
   "outputs": [
    {
     "name": "stdout",
     "output_type": "stream",
     "text": [
      "id INTEGER\n",
      "station TEXT\n",
      "name TEXT\n",
      "latitude FLOAT\n",
      "longitude FLOAT\n",
      "elevation FLOAT\n"
     ]
    }
   ],
   "source": [
    "# Using the inspector to print the column names within the 'station' table and its types\n",
    "columns = inspector.get_columns('station')\n",
    "for column in columns:\n",
    "    print(column[\"name\"], column[\"type\"])"
   ]
  },
  {
   "cell_type": "code",
   "execution_count": 12,
   "metadata": {},
   "outputs": [
    {
     "data": {
      "text/plain": [
       "[(1, 'USC00519397', '2010-01-01', 0.08, 65.0),\n",
       " (2, 'USC00519397', '2010-01-02', 0.0, 63.0),\n",
       " (3, 'USC00519397', '2010-01-03', 0.0, 74.0),\n",
       " (4, 'USC00519397', '2010-01-04', 0.0, 76.0),\n",
       " (5, 'USC00519397', '2010-01-06', None, 73.0),\n",
       " (6, 'USC00519397', '2010-01-07', 0.06, 70.0),\n",
       " (7, 'USC00519397', '2010-01-08', 0.0, 64.0),\n",
       " (8, 'USC00519397', '2010-01-09', 0.0, 68.0),\n",
       " (9, 'USC00519397', '2010-01-10', 0.0, 73.0),\n",
       " (10, 'USC00519397', '2010-01-11', 0.01, 64.0)]"
      ]
     },
     "execution_count": 12,
     "metadata": {},
     "output_type": "execute_result"
    }
   ],
   "source": [
    "# Use `engine.execute` to select and display the first 10 rows from Measurement table OPTION: WHERE prcp IS NOT NULL\n",
    "measurement_query = engine.execute('SELECT * FROM measurement LIMIT 10').fetchall()\n",
    "measurement_query"
   ]
  },
  {
   "cell_type": "code",
   "execution_count": 13,
   "metadata": {},
   "outputs": [
    {
     "data": {
      "text/plain": [
       "[(1, 'USC00519397', 'WAIKIKI 717.2, HI US', 21.2716, -157.8168, 3.0),\n",
       " (2, 'USC00513117', 'KANEOHE 838.1, HI US', 21.4234, -157.8015, 14.6),\n",
       " (3, 'USC00514830', 'KUALOA RANCH HEADQUARTERS 886.9, HI US', 21.5213, -157.8374, 7.0),\n",
       " (4, 'USC00517948', 'PEARL CITY, HI US', 21.3934, -157.9751, 11.9),\n",
       " (5, 'USC00518838', 'UPPER WAHIAWA 874.3, HI US', 21.4992, -158.0111, 306.6),\n",
       " (6, 'USC00519523', 'WAIMANALO EXPERIMENTAL FARM, HI US', 21.33556, -157.71139, 19.5),\n",
       " (7, 'USC00519281', 'WAIHEE 837.5, HI US', 21.45167, -157.84888999999998, 32.9),\n",
       " (8, 'USC00511918', 'HONOLULU OBSERVATORY 702.2, HI US', 21.3152, -157.9992, 0.9),\n",
       " (9, 'USC00516128', 'MANOA LYON ARBO 785.2, HI US', 21.3331, -157.8025, 152.4)]"
      ]
     },
     "execution_count": 13,
     "metadata": {},
     "output_type": "execute_result"
    }
   ],
   "source": [
    "# Use `engine.execute` to select and display the first 10 rows from Station table\n",
    "station_query = engine.execute('SELECT * FROM station LIMIT 10').fetchall()\n",
    "station_query"
   ]
  },
  {
   "cell_type": "markdown",
   "metadata": {},
   "source": [
    "# Exploratory Climate Analysis"
   ]
  },
  {
   "cell_type": "code",
   "execution_count": 14,
   "metadata": {},
   "outputs": [
    {
     "data": {
      "text/html": [
       "<div>\n",
       "<style scoped>\n",
       "    .dataframe tbody tr th:only-of-type {\n",
       "        vertical-align: middle;\n",
       "    }\n",
       "\n",
       "    .dataframe tbody tr th {\n",
       "        vertical-align: top;\n",
       "    }\n",
       "\n",
       "    .dataframe thead th {\n",
       "        text-align: right;\n",
       "    }\n",
       "</style>\n",
       "<table border=\"1\" class=\"dataframe\">\n",
       "  <thead>\n",
       "    <tr style=\"text-align: right;\">\n",
       "      <th></th>\n",
       "      <th>precipitation</th>\n",
       "    </tr>\n",
       "    <tr>\n",
       "      <th>date</th>\n",
       "      <th></th>\n",
       "    </tr>\n",
       "  </thead>\n",
       "  <tbody>\n",
       "    <tr>\n",
       "      <th>2016-08-23</th>\n",
       "      <td>1.79</td>\n",
       "    </tr>\n",
       "    <tr>\n",
       "      <th>2016-08-24</th>\n",
       "      <td>2.28</td>\n",
       "    </tr>\n",
       "    <tr>\n",
       "      <th>2016-08-25</th>\n",
       "      <td>0.21</td>\n",
       "    </tr>\n",
       "    <tr>\n",
       "      <th>2016-08-26</th>\n",
       "      <td>0.04</td>\n",
       "    </tr>\n",
       "    <tr>\n",
       "      <th>2016-08-27</th>\n",
       "      <td>0.18</td>\n",
       "    </tr>\n",
       "  </tbody>\n",
       "</table>\n",
       "</div>"
      ],
      "text/plain": [
       "            precipitation\n",
       "date                     \n",
       "2016-08-23           1.79\n",
       "2016-08-24           2.28\n",
       "2016-08-25           0.21\n",
       "2016-08-26           0.04\n",
       "2016-08-27           0.18"
      ]
     },
     "execution_count": 14,
     "metadata": {},
     "output_type": "execute_result"
    }
   ],
   "source": [
    "# Design a query to retrieve the last 12 months of precipitation data and plot the results\n",
    "end_date = session.query(Measurement.date).order_by(Measurement.date.desc()).first()[0]\n",
    "\n",
    "# Calculate the date 1 year ago from the last data point in the database\n",
    "start_date = dt.date(2017, 8, 23) - dt.timedelta(days=365)\n",
    "\n",
    "# Perform a query to retrieve the data and precipitation scores\n",
    "sel_precip = [Measurement.date,\n",
    "              func.max(Measurement.prcp)]\n",
    "\n",
    "precip_data = session.query(*sel_precip).\\\n",
    "    filter(Measurement.date >= start_date).\\\n",
    "    group_by(Measurement.date).\\\n",
    "    order_by(Measurement.date).all()\n",
    "\n",
    "\n",
    "# Save the query results as a Pandas DataFrame and set the index to the date column\n",
    "precip_df = pd.DataFrame(precip_data, columns=['date', 'precipitation'])\n",
    "precip_df.set_index('date', inplace=True, )\n",
    "\n",
    "# Sort the dataframe by date\n",
    "precip_df.sort_values('date', ascending=True).head()"
   ]
  },
  {
   "cell_type": "code",
   "execution_count": 15,
   "metadata": {},
   "outputs": [
    {
     "ename": "AttributeError",
     "evalue": "module 'matplotlib.pyplot' has no attribute 'set'",
     "output_type": "error",
     "traceback": [
      "\u001b[1;31m---------------------------------------------------------------------------\u001b[0m",
      "\u001b[1;31mAttributeError\u001b[0m                            Traceback (most recent call last)",
      "\u001b[1;32m<ipython-input-15-09bbc0b489ca>\u001b[0m in \u001b[0;36m<module>\u001b[1;34m\u001b[0m\n\u001b[0;32m      1\u001b[0m \u001b[1;31m# Use Pandas Plotting with Matplotlib to plot the data\u001b[0m\u001b[1;33m\u001b[0m\u001b[1;33m\u001b[0m\u001b[1;33m\u001b[0m\u001b[0m\n\u001b[0;32m      2\u001b[0m \u001b[0mprecip_df\u001b[0m\u001b[1;33m.\u001b[0m\u001b[0mplot\u001b[0m\u001b[1;33m(\u001b[0m\u001b[0my\u001b[0m \u001b[1;33m=\u001b[0m \u001b[1;34m'precipitation'\u001b[0m\u001b[1;33m)\u001b[0m\u001b[1;33m\u001b[0m\u001b[1;33m\u001b[0m\u001b[0m\n\u001b[1;32m----> 3\u001b[1;33m \u001b[0mplt\u001b[0m\u001b[1;33m.\u001b[0m\u001b[0mset\u001b[0m\u001b[1;33m.\u001b[0m\u001b[0mxticklabels\u001b[0m \u001b[1;33m=\u001b[0m \u001b[1;33m(\u001b[0m\u001b[1;33m)\u001b[0m\u001b[1;33m\u001b[0m\u001b[1;33m\u001b[0m\u001b[0m\n\u001b[0m\u001b[0;32m      4\u001b[0m \u001b[0mplt\u001b[0m\u001b[1;33m.\u001b[0m\u001b[0mlegend\u001b[0m\u001b[1;33m(\u001b[0m\u001b[0mloc\u001b[0m\u001b[1;33m=\u001b[0m\u001b[1;34m'upper right'\u001b[0m\u001b[1;33m)\u001b[0m\u001b[1;33m\u001b[0m\u001b[1;33m\u001b[0m\u001b[0m\n\u001b[0;32m      5\u001b[0m \u001b[0mplt\u001b[0m\u001b[1;33m.\u001b[0m\u001b[0mtight_layout\u001b[0m\u001b[1;33m(\u001b[0m\u001b[1;33m)\u001b[0m\u001b[1;33m\u001b[0m\u001b[1;33m\u001b[0m\u001b[0m\n",
      "\u001b[1;31mAttributeError\u001b[0m: module 'matplotlib.pyplot' has no attribute 'set'"
     ]
    },
    {
     "data": {
      "image/png": "[encoded data removed]",
      "text/plain": [
       "<Figure size 432x288 with 1 Axes>"
      ]
     },
     "metadata": {
      "needs_background": "light"
     },
     "output_type": "display_data"
    }
   ],
   "source": [
    "# Use Pandas Plotting with Matplotlib to plot the data\n",
    "precip_df.plot(y = 'precipitation')\n",
    "plt.legend(loc='upper right')\n",
    "plt.tight_layout()\n",
    "plt.show()"
   ]
  },
  {
   "cell_type": "code",
   "execution_count": 16,
   "metadata": {},
   "outputs": [
    {
     "data": {
      "text/html": [
       "<div>\n",
       "<style scoped>\n",
       "    .dataframe tbody tr th:only-of-type {\n",
       "        vertical-align: middle;\n",
       "    }\n",
       "\n",
       "    .dataframe tbody tr th {\n",
       "        vertical-align: top;\n",
       "    }\n",
       "\n",
       "    .dataframe thead th {\n",
       "        text-align: right;\n",
       "    }\n",
       "</style>\n",
       "<table border=\"1\" class=\"dataframe\">\n",
       "  <thead>\n",
       "    <tr style=\"text-align: right;\">\n",
       "      <th></th>\n",
       "      <th>precipitation</th>\n",
       "    </tr>\n",
       "  </thead>\n",
       "  <tbody>\n",
       "    <tr>\n",
       "      <th>count</th>\n",
       "      <td>366.000000</td>\n",
       "    </tr>\n",
       "    <tr>\n",
       "      <th>mean</th>\n",
       "      <td>0.520765</td>\n",
       "    </tr>\n",
       "    <tr>\n",
       "      <th>std</th>\n",
       "      <td>0.830728</td>\n",
       "    </tr>\n",
       "    <tr>\n",
       "      <th>min</th>\n",
       "      <td>0.000000</td>\n",
       "    </tr>\n",
       "    <tr>\n",
       "      <th>25%</th>\n",
       "      <td>0.040000</td>\n",
       "    </tr>\n",
       "    <tr>\n",
       "      <th>50%</th>\n",
       "      <td>0.250000</td>\n",
       "    </tr>\n",
       "    <tr>\n",
       "      <th>75%</th>\n",
       "      <td>0.672500</td>\n",
       "    </tr>\n",
       "    <tr>\n",
       "      <th>max</th>\n",
       "      <td>6.700000</td>\n",
       "    </tr>\n",
       "  </tbody>\n",
       "</table>\n",
       "</div>"
      ],
      "text/plain": [
       "       precipitation\n",
       "count     366.000000\n",
       "mean        0.520765\n",
       "std         0.830728\n",
       "min         0.000000\n",
       "25%         0.040000\n",
       "50%         0.250000\n",
       "75%         0.672500\n",
       "max         6.700000"
      ]
     },
     "execution_count": 16,
     "metadata": {},
     "output_type": "execute_result"
    }
   ],
   "source": [
    "# Use Pandas to calcualte the summary statistics for the precipitation data\n",
    "precip_df.describe()"
   ]
  },
  {
   "cell_type": "markdown",
   "metadata": {},
   "source": [
    "# Station Analysis"
   ]
  },
  {
   "cell_type": "code",
   "execution_count": 17,
   "metadata": {},
   "outputs": [
    {
     "name": "stdout",
     "output_type": "stream",
     "text": [
      "There are a total of 9 station in the dataset\n"
     ]
    }
   ],
   "source": [
    "# Design a query to show how many stations are available in this dataset?\n",
    "stations_data = session.query(Station).group_by(Station.station).count()\n",
    "print(f\"There are a total of {stations_data} station in the dataset\")"
   ]
  },
  {
   "cell_type": "code",
   "execution_count": 18,
   "metadata": {},
   "outputs": [
    {
     "data": {
      "text/plain": [
       "[('USC00519281', 2772),\n",
       " ('USC00519397', 2724),\n",
       " ('USC00513117', 2709),\n",
       " ('USC00519523', 2669),\n",
       " ('USC00516128', 2612),\n",
       " ('USC00514830', 2202),\n",
       " ('USC00511918', 1979),\n",
       " ('USC00517948', 1372),\n",
       " ('USC00518838', 511)]"
      ]
     },
     "execution_count": 18,
     "metadata": {},
     "output_type": "execute_result"
    }
   ],
   "source": [
    "# What are the most active stations? (i.e. what stations have the most rows)?\n",
    "# List the stations and the counts in descending order.\n",
    "top_stations = session.query(Measurement.station, func.count(Measurement.station)).\\\n",
    "    group_by(Measurement.station).\\\n",
    "    order_by(func.count(Measurement.station).desc()).all()\n",
    "top_stations"
   ]
  },
  {
   "cell_type": "code",
   "execution_count": 19,
   "metadata": {},
   "outputs": [
    {
     "data": {
      "text/plain": [
       "[('USC00519281', 54.0, 85.0, 71.66378066378067)]"
      ]
     },
     "execution_count": 19,
     "metadata": {},
     "output_type": "execute_result"
    }
   ],
   "source": [
    "# Using the station id from the previous query, calculate the lowest temperature recorded, \n",
    "# highest temperature recorded, and average temperature most active station?\n",
    "sel_temp = [Measurement.station,\n",
    "            func.min(Measurement.tobs),\n",
    "            func.max(Measurement.tobs),\n",
    "            func.avg(Measurement.tobs)]\n",
    "\n",
    "station_results = session.query(*sel_temp).\\\n",
    "    filter(Measurement.station == 'USC00519281').\\\n",
    "    group_by(Measurement.station).\\\n",
    "    order_by(Measurement.station).all()\n",
    "station_results"
   ]
  },
  {
   "cell_type": "code",
   "execution_count": 20,
   "metadata": {},
   "outputs": [
    {
     "name": "stdout",
     "output_type": "stream",
     "text": [
      "2016-08-18\n",
      "2017-08-18\n"
     ]
    }
   ],
   "source": [
    "# Choose the station with the highest number of temperature observations.\n",
    "end_date_USC00519281 = session.query(Measurement.date).filter(Measurement.station == 'USC00519281').\\\n",
    "    order_by(Measurement.date.desc()).first()[0]\n",
    "start_date_USC00519281 = (dt.datetime.strptime(end_date_USC00519281, '%Y-%m-%d') - dt.timedelta(days=365)).date()\n",
    "print(start_date_USC00519281)\n",
    "print(end_date_USC00519281)"
   ]
  },
  {
   "cell_type": "code",
   "execution_count": 21,
   "metadata": {},
   "outputs": [
    {
     "data": {
      "text/plain": [
       "[('USC00519281', 77.0),\n",
       " ('USC00519281', 77.0),\n",
       " ('USC00519281', 80.0),\n",
       " ('USC00519281', 80.0),\n",
       " ('USC00519281', 75.0),\n",
       " ('USC00519281', 73.0),\n",
       " ('USC00519281', 78.0),\n",
       " ('USC00519281', 77.0),\n",
       " ('USC00519281', 78.0),\n",
       " ('USC00519281', 80.0),\n",
       " ('USC00519281', 80.0),\n",
       " ('USC00519281', 78.0),\n",
       " ('USC00519281', 78.0),\n",
       " ('USC00519281', 78.0),\n",
       " ('USC00519281', 73.0),\n",
       " ('USC00519281', 74.0),\n",
       " ('USC00519281', 80.0),\n",
       " ('USC00519281', 79.0),\n",
       " ('USC00519281', 77.0),\n",
       " ('USC00519281', 80.0),\n",
       " ('USC00519281', 76.0),\n",
       " ('USC00519281', 79.0),\n",
       " ('USC00519281', 75.0),\n",
       " ('USC00519281', 79.0),\n",
       " ('USC00519281', 78.0),\n",
       " ('USC00519281', 79.0),\n",
       " ('USC00519281', 78.0),\n",
       " ('USC00519281', 78.0),\n",
       " ('USC00519281', 76.0),\n",
       " ('USC00519281', 74.0),\n",
       " ('USC00519281', 77.0),\n",
       " ('USC00519281', 78.0),\n",
       " ('USC00519281', 79.0),\n",
       " ('USC00519281', 79.0),\n",
       " ('USC00519281', 77.0),\n",
       " ('USC00519281', 80.0),\n",
       " ('USC00519281', 78.0),\n",
       " ('USC00519281', 78.0),\n",
       " ('USC00519281', 78.0),\n",
       " ('USC00519281', 77.0),\n",
       " ('USC00519281', 79.0),\n",
       " ('USC00519281', 79.0),\n",
       " ('USC00519281', 79.0),\n",
       " ('USC00519281', 79.0),\n",
       " ('USC00519281', 75.0),\n",
       " ('USC00519281', 76.0),\n",
       " ('USC00519281', 73.0),\n",
       " ('USC00519281', 72.0),\n",
       " ('USC00519281', 71.0),\n",
       " ('USC00519281', 77.0),\n",
       " ('USC00519281', 79.0),\n",
       " ('USC00519281', 78.0),\n",
       " ('USC00519281', 79.0),\n",
       " ('USC00519281', 77.0),\n",
       " ('USC00519281', 79.0),\n",
       " ('USC00519281', 77.0),\n",
       " ('USC00519281', 78.0),\n",
       " ('USC00519281', 78.0),\n",
       " ('USC00519281', 78.0),\n",
       " ('USC00519281', 78.0),\n",
       " ('USC00519281', 77.0),\n",
       " ('USC00519281', 74.0),\n",
       " ('USC00519281', 75.0),\n",
       " ('USC00519281', 76.0),\n",
       " ('USC00519281', 73.0),\n",
       " ('USC00519281', 76.0),\n",
       " ('USC00519281', 74.0),\n",
       " ('USC00519281', 77.0),\n",
       " ('USC00519281', 76.0),\n",
       " ('USC00519281', 76.0),\n",
       " ('USC00519281', 74.0),\n",
       " ('USC00519281', 75.0),\n",
       " ('USC00519281', 75.0),\n",
       " ('USC00519281', 75.0),\n",
       " ('USC00519281', 75.0),\n",
       " ('USC00519281', 71.0),\n",
       " ('USC00519281', 63.0),\n",
       " ('USC00519281', 70.0),\n",
       " ('USC00519281', 68.0),\n",
       " ('USC00519281', 67.0),\n",
       " ('USC00519281', 77.0),\n",
       " ('USC00519281', 74.0),\n",
       " ('USC00519281', 77.0),\n",
       " ('USC00519281', 76.0),\n",
       " ('USC00519281', 76.0),\n",
       " ('USC00519281', 75.0),\n",
       " ('USC00519281', 76.0),\n",
       " ('USC00519281', 75.0),\n",
       " ('USC00519281', 73.0),\n",
       " ('USC00519281', 75.0),\n",
       " ('USC00519281', 73.0),\n",
       " ('USC00519281', 75.0),\n",
       " ('USC00519281', 74.0),\n",
       " ('USC00519281', 75.0),\n",
       " ('USC00519281', 74.0),\n",
       " ('USC00519281', 75.0),\n",
       " ('USC00519281', 73.0),\n",
       " ('USC00519281', 75.0),\n",
       " ('USC00519281', 73.0),\n",
       " ('USC00519281', 73.0),\n",
       " ('USC00519281', 74.0),\n",
       " ('USC00519281', 70.0),\n",
       " ('USC00519281', 72.0),\n",
       " ('USC00519281', 70.0),\n",
       " ('USC00519281', 67.0),\n",
       " ('USC00519281', 67.0),\n",
       " ('USC00519281', 69.0),\n",
       " ('USC00519281', 70.0),\n",
       " ('USC00519281', 68.0),\n",
       " ('USC00519281', 69.0),\n",
       " ('USC00519281', 69.0),\n",
       " ('USC00519281', 66.0),\n",
       " ('USC00519281', 65.0),\n",
       " ('USC00519281', 68.0),\n",
       " ('USC00519281', 62.0),\n",
       " ('USC00519281', 75.0),\n",
       " ('USC00519281', 70.0),\n",
       " ('USC00519281', 69.0),\n",
       " ('USC00519281', 76.0),\n",
       " ('USC00519281', 76.0),\n",
       " ('USC00519281', 74.0),\n",
       " ('USC00519281', 73.0),\n",
       " ('USC00519281', 71.0),\n",
       " ('USC00519281', 74.0),\n",
       " ('USC00519281', 74.0),\n",
       " ('USC00519281', 72.0),\n",
       " ('USC00519281', 71.0),\n",
       " ('USC00519281', 72.0),\n",
       " ('USC00519281', 74.0),\n",
       " ('USC00519281', 69.0),\n",
       " ('USC00519281', 67.0),\n",
       " ('USC00519281', 72.0),\n",
       " ('USC00519281', 70.0),\n",
       " ('USC00519281', 64.0),\n",
       " ('USC00519281', 63.0),\n",
       " ('USC00519281', 63.0),\n",
       " ('USC00519281', 62.0),\n",
       " ('USC00519281', 70.0),\n",
       " ('USC00519281', 70.0),\n",
       " ('USC00519281', 62.0),\n",
       " ('USC00519281', 62.0),\n",
       " ('USC00519281', 63.0),\n",
       " ('USC00519281', 65.0),\n",
       " ('USC00519281', 69.0),\n",
       " ('USC00519281', 77.0),\n",
       " ('USC00519281', 70.0),\n",
       " ('USC00519281', 74.0),\n",
       " ('USC00519281', 69.0),\n",
       " ('USC00519281', 72.0),\n",
       " ('USC00519281', 71.0),\n",
       " ('USC00519281', 69.0),\n",
       " ('USC00519281', 71.0),\n",
       " ('USC00519281', 71.0),\n",
       " ('USC00519281', 72.0),\n",
       " ('USC00519281', 72.0),\n",
       " ('USC00519281', 69.0),\n",
       " ('USC00519281', 70.0),\n",
       " ('USC00519281', 66.0),\n",
       " ('USC00519281', 65.0),\n",
       " ('USC00519281', 69.0),\n",
       " ('USC00519281', 68.0),\n",
       " ('USC00519281', 68.0),\n",
       " ('USC00519281', 68.0),\n",
       " ('USC00519281', 59.0),\n",
       " ('USC00519281', 60.0),\n",
       " ('USC00519281', 70.0),\n",
       " ('USC00519281', 73.0),\n",
       " ('USC00519281', 75.0),\n",
       " ('USC00519281', 64.0),\n",
       " ('USC00519281', 59.0),\n",
       " ('USC00519281', 59.0),\n",
       " ('USC00519281', 62.0),\n",
       " ('USC00519281', 68.0),\n",
       " ('USC00519281', 70.0),\n",
       " ('USC00519281', 73.0),\n",
       " ('USC00519281', 79.0),\n",
       " ('USC00519281', 75.0),\n",
       " ('USC00519281', 65.0),\n",
       " ('USC00519281', 70.0),\n",
       " ('USC00519281', 74.0),\n",
       " ('USC00519281', 70.0),\n",
       " ('USC00519281', 70.0),\n",
       " ('USC00519281', 71.0),\n",
       " ('USC00519281', 71.0),\n",
       " ('USC00519281', 71.0),\n",
       " ('USC00519281', 69.0),\n",
       " ('USC00519281', 61.0),\n",
       " ('USC00519281', 67.0),\n",
       " ('USC00519281', 65.0),\n",
       " ('USC00519281', 72.0),\n",
       " ('USC00519281', 71.0),\n",
       " ('USC00519281', 73.0),\n",
       " ('USC00519281', 72.0),\n",
       " ('USC00519281', 77.0),\n",
       " ('USC00519281', 73.0),\n",
       " ('USC00519281', 67.0),\n",
       " ('USC00519281', 62.0),\n",
       " ('USC00519281', 64.0),\n",
       " ('USC00519281', 67.0),\n",
       " ('USC00519281', 66.0),\n",
       " ('USC00519281', 81.0),\n",
       " ('USC00519281', 69.0),\n",
       " ('USC00519281', 66.0),\n",
       " ('USC00519281', 67.0),\n",
       " ('USC00519281', 69.0),\n",
       " ('USC00519281', 66.0),\n",
       " ('USC00519281', 68.0),\n",
       " ('USC00519281', 65.0),\n",
       " ('USC00519281', 74.0),\n",
       " ('USC00519281', 69.0),\n",
       " ('USC00519281', 72.0),\n",
       " ('USC00519281', 73.0),\n",
       " ('USC00519281', 72.0),\n",
       " ('USC00519281', 71.0),\n",
       " ('USC00519281', 76.0),\n",
       " ('USC00519281', 77.0),\n",
       " ('USC00519281', 76.0),\n",
       " ('USC00519281', 74.0),\n",
       " ('USC00519281', 68.0),\n",
       " ('USC00519281', 73.0),\n",
       " ('USC00519281', 71.0),\n",
       " ('USC00519281', 74.0),\n",
       " ('USC00519281', 75.0),\n",
       " ('USC00519281', 70.0),\n",
       " ('USC00519281', 67.0),\n",
       " ('USC00519281', 71.0),\n",
       " ('USC00519281', 67.0),\n",
       " ('USC00519281', 74.0),\n",
       " ('USC00519281', 77.0),\n",
       " ('USC00519281', 78.0),\n",
       " ('USC00519281', 67.0),\n",
       " ('USC00519281', 70.0),\n",
       " ('USC00519281', 69.0),\n",
       " ('USC00519281', 69.0),\n",
       " ('USC00519281', 74.0),\n",
       " ('USC00519281', 78.0),\n",
       " ('USC00519281', 71.0),\n",
       " ('USC00519281', 67.0),\n",
       " ('USC00519281', 68.0),\n",
       " ('USC00519281', 67.0),\n",
       " ('USC00519281', 76.0),\n",
       " ('USC00519281', 69.0),\n",
       " ('USC00519281', 72.0),\n",
       " ('USC00519281', 76.0),\n",
       " ('USC00519281', 68.0),\n",
       " ('USC00519281', 72.0),\n",
       " ('USC00519281', 74.0),\n",
       " ('USC00519281', 70.0),\n",
       " ('USC00519281', 67.0),\n",
       " ('USC00519281', 72.0),\n",
       " ('USC00519281', 60.0),\n",
       " ('USC00519281', 65.0),\n",
       " ('USC00519281', 75.0),\n",
       " ('USC00519281', 70.0),\n",
       " ('USC00519281', 75.0),\n",
       " ('USC00519281', 70.0),\n",
       " ('USC00519281', 79.0),\n",
       " ('USC00519281', 75.0),\n",
       " ('USC00519281', 70.0),\n",
       " ('USC00519281', 67.0),\n",
       " ('USC00519281', 74.0),\n",
       " ('USC00519281', 70.0),\n",
       " ('USC00519281', 75.0),\n",
       " ('USC00519281', 76.0),\n",
       " ('USC00519281', 77.0),\n",
       " ('USC00519281', 74.0),\n",
       " ('USC00519281', 74.0),\n",
       " ('USC00519281', 74.0),\n",
       " ('USC00519281', 69.0),\n",
       " ('USC00519281', 68.0),\n",
       " ('USC00519281', 76.0),\n",
       " ('USC00519281', 74.0),\n",
       " ('USC00519281', 71.0),\n",
       " ('USC00519281', 71.0),\n",
       " ('USC00519281', 74.0),\n",
       " ('USC00519281', 74.0),\n",
       " ('USC00519281', 74.0),\n",
       " ('USC00519281', 74.0),\n",
       " ('USC00519281', 80.0),\n",
       " ('USC00519281', 74.0),\n",
       " ('USC00519281', 72.0),\n",
       " ('USC00519281', 75.0),\n",
       " ('USC00519281', 80.0),\n",
       " ('USC00519281', 76.0),\n",
       " ('USC00519281', 76.0),\n",
       " ('USC00519281', 77.0),\n",
       " ('USC00519281', 75.0),\n",
       " ('USC00519281', 75.0),\n",
       " ('USC00519281', 75.0),\n",
       " ('USC00519281', 75.0),\n",
       " ('USC00519281', 72.0),\n",
       " ('USC00519281', 74.0),\n",
       " ('USC00519281', 74.0),\n",
       " ('USC00519281', 74.0),\n",
       " ('USC00519281', 76.0),\n",
       " ('USC00519281', 74.0),\n",
       " ('USC00519281', 75.0),\n",
       " ('USC00519281', 73.0),\n",
       " ('USC00519281', 79.0),\n",
       " ('USC00519281', 75.0),\n",
       " ('USC00519281', 72.0),\n",
       " ('USC00519281', 72.0),\n",
       " ('USC00519281', 74.0),\n",
       " ('USC00519281', 72.0),\n",
       " ('USC00519281', 72.0),\n",
       " ('USC00519281', 77.0),\n",
       " ('USC00519281', 71.0),\n",
       " ('USC00519281', 73.0),\n",
       " ('USC00519281', 76.0),\n",
       " ('USC00519281', 77.0),\n",
       " ('USC00519281', 76.0),\n",
       " ('USC00519281', 76.0),\n",
       " ('USC00519281', 79.0),\n",
       " ('USC00519281', 81.0),\n",
       " ('USC00519281', 76.0),\n",
       " ('USC00519281', 78.0),\n",
       " ('USC00519281', 77.0),\n",
       " ('USC00519281', 74.0),\n",
       " ('USC00519281', 75.0),\n",
       " ('USC00519281', 78.0),\n",
       " ('USC00519281', 78.0),\n",
       " ('USC00519281', 69.0),\n",
       " ('USC00519281', 72.0),\n",
       " ('USC00519281', 74.0),\n",
       " ('USC00519281', 74.0),\n",
       " ('USC00519281', 76.0),\n",
       " ('USC00519281', 80.0),\n",
       " ('USC00519281', 80.0),\n",
       " ('USC00519281', 76.0),\n",
       " ('USC00519281', 76.0),\n",
       " ('USC00519281', 76.0),\n",
       " ('USC00519281', 77.0),\n",
       " ('USC00519281', 77.0),\n",
       " ('USC00519281', 77.0),\n",
       " ('USC00519281', 82.0),\n",
       " ('USC00519281', 75.0),\n",
       " ('USC00519281', 77.0),\n",
       " ('USC00519281', 75.0),\n",
       " ('USC00519281', 76.0),\n",
       " ('USC00519281', 81.0),\n",
       " ('USC00519281', 82.0),\n",
       " ('USC00519281', 81.0),\n",
       " ('USC00519281', 76.0),\n",
       " ('USC00519281', 77.0),\n",
       " ('USC00519281', 82.0),\n",
       " ('USC00519281', 83.0),\n",
       " ('USC00519281', 77.0),\n",
       " ('USC00519281', 77.0),\n",
       " ('USC00519281', 77.0),\n",
       " ('USC00519281', 76.0),\n",
       " ('USC00519281', 76.0),\n",
       " ('USC00519281', 79.0)]"
      ]
     },
     "execution_count": 21,
     "metadata": {},
     "output_type": "execute_result"
    }
   ],
   "source": [
    "# Query the last 12 months of temperature observation data for this station and plot the results as a histogram\n",
    "sel = [Measurement.station,\n",
    "       Measurement.tobs]\n",
    "\n",
    "temp_station = session.query(*sel).\\\n",
    "    filter(Measurement.date >= start_date).\\\n",
    "    filter(Measurement.station == 'USC00519281').all()\n",
    "temp_station"
   ]
  },
  {
   "cell_type": "code",
   "execution_count": 22,
   "metadata": {},
   "outputs": [
    {
     "data": {
      "text/html": [
       "<div>\n",
       "<style scoped>\n",
       "    .dataframe tbody tr th:only-of-type {\n",
       "        vertical-align: middle;\n",
       "    }\n",
       "\n",
       "    .dataframe tbody tr th {\n",
       "        vertical-align: top;\n",
       "    }\n",
       "\n",
       "    .dataframe thead th {\n",
       "        text-align: right;\n",
       "    }\n",
       "</style>\n",
       "<table border=\"1\" class=\"dataframe\">\n",
       "  <thead>\n",
       "    <tr style=\"text-align: right;\">\n",
       "      <th></th>\n",
       "      <th>station</th>\n",
       "      <th>temperature</th>\n",
       "    </tr>\n",
       "  </thead>\n",
       "  <tbody>\n",
       "    <tr>\n",
       "      <th>0</th>\n",
       "      <td>USC00519281</td>\n",
       "      <td>77.0</td>\n",
       "    </tr>\n",
       "    <tr>\n",
       "      <th>1</th>\n",
       "      <td>USC00519281</td>\n",
       "      <td>77.0</td>\n",
       "    </tr>\n",
       "    <tr>\n",
       "      <th>2</th>\n",
       "      <td>USC00519281</td>\n",
       "      <td>80.0</td>\n",
       "    </tr>\n",
       "    <tr>\n",
       "      <th>3</th>\n",
       "      <td>USC00519281</td>\n",
       "      <td>80.0</td>\n",
       "    </tr>\n",
       "    <tr>\n",
       "      <th>4</th>\n",
       "      <td>USC00519281</td>\n",
       "      <td>75.0</td>\n",
       "    </tr>\n",
       "  </tbody>\n",
       "</table>\n",
       "</div>"
      ],
      "text/plain": [
       "       station  temperature\n",
       "0  USC00519281         77.0\n",
       "1  USC00519281         77.0\n",
       "2  USC00519281         80.0\n",
       "3  USC00519281         80.0\n",
       "4  USC00519281         75.0"
      ]
     },
     "execution_count": 22,
     "metadata": {},
     "output_type": "execute_result"
    }
   ],
   "source": [
    "# Create Dataframe from above query\n",
    "station_hist = pd.DataFrame(temp_station, columns=['station','temperature'])\n",
    "station_hist.head()"
   ]
  },
  {
   "cell_type": "code",
   "execution_count": 23,
   "metadata": {},
   "outputs": [
    {
     "data": {
      "image/png": "[encoded data removed]",
      "text/plain": [
       "<Figure size 432x288 with 1 Axes>"
      ]
     },
     "metadata": {
      "needs_background": "light"
     },
     "output_type": "display_data"
    }
   ],
   "source": [
    "# Plot DataFrame in a Histogram \n",
    "hist = station_hist.hist(column='temperature')"
   ]
  },
  {
   "cell_type": "code",
   "execution_count": 24,
   "metadata": {},
   "outputs": [
    {
     "name": "stdout",
     "output_type": "stream",
     "text": [
      "[(62.0, 69.57142857142857, 74.0)]\n"
     ]
    }
   ],
   "source": [
    "# This function called `calc_temps` will accept start date and end date in the format '%Y-%m-%d' \n",
    "# and return the minimum, average, and maximum temperatures for that range of dates\n",
    "def calc_temps(start_date, end_date):\n",
    "    \"\"\"TMIN, TAVG, and TMAX for a list of dates.\n",
    "    \n",
    "    Args:\n",
    "        start_date (string): A date string in the format %Y-%m-%d\n",
    "        end_date (string): A date string in the format %Y-%m-%d\n",
    "        \n",
    "    Returns:\n",
    "        TMIN, TAVE, and TMAX\n",
    "    \"\"\"\n",
    "    \n",
    "    return session.query(func.min(Measurement.tobs), func.avg(Measurement.tobs), func.max(Measurement.tobs)).\\\n",
    "        filter(Measurement.date >= start_date).filter(Measurement.date <= end_date).all()\n",
    "\n",
    "# function usage example\n",
    "print(calc_temps('2012-02-28', '2012-03-05'))"
   ]
  },
  {
   "cell_type": "code",
   "execution_count": 25,
   "metadata": {},
   "outputs": [
    {
     "name": "stdout",
     "output_type": "stream",
     "text": [
      "[(58.0, 74.59875167186803, 87.0)]\n"
     ]
    }
   ],
   "source": [
    "# Use your previous function `calc_temps` to calculate the tmin, tavg, and tmax \n",
    "# for your trip using the previous year's data for those same dates.\n",
    "new_calc = calc_temps(start_date_USC00519281, end_date_USC00519281)\n",
    "print(new_calc)"
   ]
  },
  {
   "cell_type": "code",
   "execution_count": 26,
   "metadata": {},
   "outputs": [
    {
     "data": {
      "text/plain": [
       "<matplotlib.axes._subplots.AxesSubplot at 0x23fc9862a90>"
      ]
     },
     "execution_count": 26,
     "metadata": {},
     "output_type": "execute_result"
    },
    {
     "data": {
      "image/png": "[encoded data removed]",
      "text/plain": [
       "<Figure size 432x288 with 1 Axes>"
      ]
     },
     "metadata": {
      "needs_background": "light"
     },
     "output_type": "display_data"
    }
   ],
   "source": [
    "# Plot the results from your previous query as a bar chart. \n",
    "# Use \"Trip Avg Temp\" as your Title\n",
    "# Use the average temperature for the y value\n",
    "# Use the peak-to-peak (tmax-tmin) value as the y error bar (yerr)\n",
    "trip_df = pd.DataFrame(new_calc, columns=['Min','Avg', 'Max'])\n",
    "\n",
    "yerr = trip_df['Max'] - trip_df['Min']\n",
    "\n",
    "trip_df.plot.bar(y='Avg', yerr=yerr)"
   ]
  }
 ],
 "metadata": {
  "kernelspec": {
   "display_name": "Python 3",
   "language": "python",
   "name": "python3"
  },
  "language_info": {
   "codemirror_mode": {
    "name": "ipython",
    "version": 3
   },
   "file_extension": ".py",
   "mimetype": "text/x-python",
   "name": "python",
   "nbconvert_exporter": "python",
   "pygments_lexer": "ipython3",
   "version": "3.7.3"
  }
 },
 "nbformat": 4,
 "nbformat_minor": 2
}
